{
 "cells": [
  {
   "cell_type": "markdown",
   "metadata": {},
   "source": [
    "# Pytorch Refresher"
   ]
  },
  {
   "cell_type": "markdown",
   "metadata": {},
   "source": [
    "## Basic Pytorch"
   ]
  },
  {
   "cell_type": "markdown",
   "metadata": {},
   "source": [
    "### Import PyTorch"
   ]
  },
  {
   "cell_type": "code",
   "execution_count": 1,
   "metadata": {},
   "outputs": [
    {
     "name": "stdout",
     "output_type": "stream",
     "text": [
      "2.0.1\n"
     ]
    }
   ],
   "source": [
    "import torch\n",
    "print(torch.__version__)"
   ]
  },
  {
   "cell_type": "markdown",
   "metadata": {},
   "source": [
    "### PyTorch Tensors"
   ]
  },
  {
   "cell_type": "markdown",
   "metadata": {},
   "source": [
    "#### Scalar - 0D Tensor"
   ]
  },
  {
   "cell_type": "code",
   "execution_count": 5,
   "metadata": {},
   "outputs": [
    {
     "name": "stdout",
     "output_type": "stream",
     "text": [
      "Scalar Tensor: tensor(42)\n"
     ]
    }
   ],
   "source": [
    "# Create a scalar (0-dimensional) tensor\n",
    "scalar_tensor = torch.tensor(42)\n",
    "print(\"Scalar Tensor:\",scalar_tensor)"
   ]
  },
  {
   "cell_type": "code",
   "execution_count": 6,
   "metadata": {},
   "outputs": [
    {
     "data": {
      "text/plain": [
       "0"
      ]
     },
     "execution_count": 6,
     "metadata": {},
     "output_type": "execute_result"
    }
   ],
   "source": [
    "# Dimension of Tensor\n",
    "scalar_tensor.ndim"
   ]
  },
  {
   "cell_type": "code",
   "execution_count": 7,
   "metadata": {},
   "outputs": [
    {
     "data": {
      "text/plain": [
       "42"
      ]
     },
     "execution_count": 7,
     "metadata": {},
     "output_type": "execute_result"
    }
   ],
   "source": [
    "# Get python number from tensor\n",
    "scalar_tensor.item()"
   ]
  },
  {
   "cell_type": "markdown",
   "metadata": {},
   "source": [
    "#### Vector - 1D Tensor"
   ]
  },
  {
   "cell_type": "code",
   "execution_count": 8,
   "metadata": {},
   "outputs": [],
   "source": [
    "# Create a 1-dimensional tensor\n",
    "vector_tensor = torch.tensor([1, 2, 3, 4, 5])"
   ]
  },
  {
   "cell_type": "code",
   "execution_count": 11,
   "metadata": {},
   "outputs": [
    {
     "name": "stdout",
     "output_type": "stream",
     "text": [
      "Dimension of Vector: 1\n",
      "Shape of Vector: torch.Size([5])\n"
     ]
    }
   ],
   "source": [
    "print(\"Dimension of Vector:\", vector_tensor.ndim)\n",
    "print(\"Shape of Vector:\", vector_tensor.shape)"
   ]
  },
  {
   "cell_type": "markdown",
   "metadata": {},
   "source": [
    "#### Matrix - 2D Tensor"
   ]
  },
  {
   "cell_type": "code",
   "execution_count": 13,
   "metadata": {},
   "outputs": [
    {
     "name": "stdout",
     "output_type": "stream",
     "text": [
      "tensor([[1, 2],\n",
      "        [3, 4]])\n"
     ]
    }
   ],
   "source": [
    "# Create a 2-dimensional tensor (matrix)\n",
    "matrix_tensor = torch.tensor([[1, 2], [3, 4]])\n",
    "\n",
    "print(matrix_tensor)"
   ]
  },
  {
   "cell_type": "code",
   "execution_count": 15,
   "metadata": {},
   "outputs": [
    {
     "name": "stdout",
     "output_type": "stream",
     "text": [
      "Dimension of Matrix: 2\n",
      "Shape of Matrix: torch.Size([2, 2])\n"
     ]
    }
   ],
   "source": [
    "print(\"Dimension of Matrix:\", matrix_tensor.ndim)\n",
    "print(\"Shape of Matrix:\", matrix_tensor.shape)"
   ]
  },
  {
   "cell_type": "markdown",
   "metadata": {},
   "source": [
    "### Tensors - Multidimension"
   ]
  },
  {
   "cell_type": "code",
   "execution_count": 19,
   "metadata": {},
   "outputs": [
    {
     "name": "stdout",
     "output_type": "stream",
     "text": [
      "tensor([[[1, 2],\n",
      "         [3, 4]],\n",
      "\n",
      "        [[5, 6],\n",
      "         [7, 8]]])\n",
      "tensor([1., 2., 3.])\n"
     ]
    }
   ],
   "source": [
    "# Create a 3-dimensional tensor\n",
    "tensor_3d = torch.tensor([[[1, 2], [3, 4]], [[5, 6], [7, 8]]])\n",
    "print(tensor_3d)\n",
    "\n",
    "# You can also specify the data type (dtype) explicitly\n",
    "float_tensor = torch.tensor([1.0, 2.0, 3.0], dtype=torch.float)\n",
    "print(float_tensor)"
   ]
  },
  {
   "cell_type": "markdown",
   "metadata": {},
   "source": [
    "#### Random Tensor"
   ]
  },
  {
   "cell_type": "code",
   "execution_count": 23,
   "metadata": {},
   "outputs": [
    {
     "name": "stdout",
     "output_type": "stream",
     "text": [
      "tensor([[0.2024, 0.6972, 0.2207, 0.0172],\n",
      "        [0.5808, 0.5810, 0.9928, 0.6064],\n",
      "        [0.1130, 0.3650, 0.8337, 0.6050]])\n",
      "torch.float32\n"
     ]
    }
   ],
   "source": [
    "random_tensor = torch.rand(size=(3,4))\n",
    "print(random_tensor)\n",
    "print(random_tensor.dtype)"
   ]
  },
  {
   "cell_type": "markdown",
   "metadata": {},
   "source": []
  },
  {
   "cell_type": "markdown",
   "metadata": {},
   "source": [
    "### PyTorch Arithmetic"
   ]
  },
  {
   "cell_type": "code",
   "execution_count": 10,
   "metadata": {},
   "outputs": [
    {
     "name": "stdout",
     "output_type": "stream",
     "text": [
      "c = a + b = tensor([5, 7, 9])\n",
      "d = a - b = tensor([-3, -3, -3])\n",
      "e = a * b = tensor([ 4, 10, 18])\n",
      "f = a / b = tensor([0.2500, 0.4000, 0.5000])\n",
      "g = a ^ b = tensor([1, 4, 9])\n",
      "h = sqrt(a) = tensor([1.0000, 1.4142, 1.7321])\n"
     ]
    }
   ],
   "source": [
    "a = torch.tensor([1, 2, 3])\n",
    "b = torch.tensor([4, 5, 6])\n",
    "\n",
    "# Addition\n",
    "c = a + b  # or torch.add(a, b)\n",
    "print(\"c = a + b =\",c)\n",
    "\n",
    "# Subtraction\n",
    "d = a - b  # or torch.subtract(a, b)\n",
    "print(\"d = a - b =\",d)\n",
    "\n",
    "# Element-wise multiplication\n",
    "e = a * b  # or torch.mul(a, b)\n",
    "print(\"e = a * b =\",e)\n",
    "\n",
    "# Element-wise division\n",
    "f = a / b  # or torch.div(a, b)\n",
    "print(\"f = a / b =\",f)\n",
    "\n",
    "# Element-wise exponentiation\n",
    "g = torch.pow(a, 2)  # Square each element of 'a'\n",
    "print(\"g = a ^ b =\",g)\n",
    "\n",
    "# Element-wise square root\n",
    "h = torch.sqrt(a)\n",
    "print(\"h = sqrt(a) =\",h)"
   ]
  },
  {
   "cell_type": "markdown",
   "metadata": {},
   "source": [
    "### Neural Network Arechitecture\n"
   ]
  },
  {
   "cell_type": "code",
   "execution_count": 2,
   "metadata": {},
   "outputs": [],
   "source": [
    "class SimpleNet(nn.Module):\n",
    "    def __init__(self):\n",
    "        super(SimpleNet, self).__init__()\n",
    "        self.conv1 = nn.Conv2d(3, 16, 3, padding=1)\n",
    "        self.relu = nn.ReLU()\n",
    "        self.pool = nn.MaxPool2d(2, 2)\n",
    "        self.fc1 = nn.Linear(16 * 16 * 16, 10)  # Assuming 32x32 input images and 10 output classes\n",
    "\n",
    "    def forward(self, x):\n",
    "        x = self.pool(self.relu(self.conv1(x)))\n",
    "        x = x.view(-1, 16 * 16 * 16)\n",
    "        x = self.fc1(x)\n",
    "        return x\n"
   ]
  },
  {
   "cell_type": "markdown",
   "metadata": {},
   "source": [
    "### MNIST Classification"
   ]
  },
  {
   "cell_type": "code",
   "execution_count": null,
   "metadata": {},
   "outputs": [],
   "source": [
    "import torch\n",
    "import torch.nn as nn\n",
    "import torch.nn.functional as F"
   ]
  }
 ],
 "metadata": {
  "kernelspec": {
   "display_name": "pytorch",
   "language": "python",
   "name": "python3"
  },
  "language_info": {
   "codemirror_mode": {
    "name": "ipython",
    "version": 3
   },
   "file_extension": ".py",
   "mimetype": "text/x-python",
   "name": "python",
   "nbconvert_exporter": "python",
   "pygments_lexer": "ipython3",
   "version": "3.11.4"
  }
 },
 "nbformat": 4,
 "nbformat_minor": 2
}
